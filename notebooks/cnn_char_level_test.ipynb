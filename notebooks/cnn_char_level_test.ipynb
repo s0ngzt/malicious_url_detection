{
 "cells": [
  {
   "cell_type": "code",
   "execution_count": 1,
   "metadata": {},
   "outputs": [],
   "source": [
    "import pickle\n",
    "import sys\n",
    "sys.path.append(\"..\")"
   ]
  },
  {
   "cell_type": "code",
   "execution_count": 2,
   "metadata": {},
   "outputs": [],
   "source": [
    "import pandas as pd\n",
    "data = pd.read_csv(\"../data/data.csv\")\n",
    "test_data = pd.read_csv(\"../data/ISCXURL2016/all_concated.csv\")"
   ]
  },
  {
   "cell_type": "code",
   "execution_count": 3,
   "metadata": {},
   "outputs": [],
   "source": [
    "#char level\n",
    "from utils import vectorization\n",
    "char_vectorizer =  vectorization.get_char_vectorizer(data[\"url\"])"
   ]
  },
  {
   "cell_type": "code",
   "execution_count": 4,
   "metadata": {},
   "outputs": [],
   "source": [
    "from utils.data_util import postpad_to\n",
    "test_data_x = postpad_to(char_vectorizer.texts_to_sequences(test_data['url']), 200)"
   ]
  },
  {
   "cell_type": "code",
   "execution_count": 5,
   "metadata": {},
   "outputs": [],
   "source": [
    "test_data_y = [1 if label == \"bad\" else 0 for label in test_data[\"label\"]]"
   ]
  },
  {
   "cell_type": "code",
   "execution_count": 6,
   "metadata": {},
   "outputs": [],
   "source": [
    "import tensorflow.keras as k\n",
    "\n",
    "def create_conv_subnet(input_layer, conv_kernel_sizes, prefix=''):\n",
    "    convolutions = list()\n",
    "    for kernel_size in conv_kernel_sizes:\n",
    "        x = k.layers.Conv1D(\n",
    "            filters=32,\n",
    "            kernel_size=kernel_size,\n",
    "            padding='same',\n",
    "            activation='relu',\n",
    "            name=f'{prefix}_conv_{kernel_size}'\n",
    "        )(input_layer)\n",
    "        x = k.layers.MaxPool1D()(x)\n",
    "        convolutions.append(x)\n",
    "\n",
    "    x = k.layers.concatenate(convolutions, axis=2)\n",
    "    x = k.layers.Flatten()(x)\n",
    "    x = k.layers.Dropout(0.5, name=f'{prefix}_dropout')(x)\n",
    "    x = k.layers.Dense(512, name=f'{prefix}_dense', activation='relu')(x)\n",
    "    return x\n",
    "\n",
    "def create_url_net(input_length, emb_dim, conv_kernel_sizes):\n",
    "    char_input = k.layers.Input(shape=[input_length], name='char')\n",
    "\n",
    "    x = create_conv_subnet(\n",
    "        k.layers.Embedding(2+LC, emb_dim, mask_zero=True)(char_input),\n",
    "        conv_kernel_sizes,\n",
    "        'char'\n",
    "    )\n",
    "\n",
    "    x = k.layers.Dense(128, activation='relu', name='dense_1')(x)\n",
    "    x = k.layers.Dense(1, activation='sigmoid', name='dense_comb_out')(x)\n",
    "\n",
    "    model = k.models.Model(inputs=[char_input], outputs=[x])\n",
    "    return model\n",
    "\n",
    "LC = len(char_vectorizer.word_counts)\n",
    "cnn_char_model = create_url_net(\n",
    "    input_length=200,\n",
    "    emb_dim=16,\n",
    "    conv_kernel_sizes=[3,5]\n",
    ")"
   ]
  },
  {
   "cell_type": "code",
   "execution_count": 7,
   "metadata": {},
   "outputs": [],
   "source": [
    "cnn_char_model = k.models.load_model('./cnn_char_level')"
   ]
  },
  {
   "cell_type": "code",
   "execution_count": 12,
   "metadata": {},
   "outputs": [],
   "source": [
    "test_pred_y = cnn_char_model.predict(test_data_x)"
   ]
  },
  {
   "cell_type": "code",
   "execution_count": 9,
   "metadata": {},
   "outputs": [
    {
     "data": {
      "text/plain": [
       "numpy.ndarray"
      ]
     },
     "execution_count": 9,
     "metadata": {},
     "output_type": "execute_result"
    }
   ],
   "source": [
    "type(test_pred_y)"
   ]
  },
  {
   "cell_type": "code",
   "execution_count": 17,
   "metadata": {},
   "outputs": [],
   "source": [
    "test_pred_y_round = [1 if i > 0.5 else 0 for i in test_pred_y]"
   ]
  },
  {
   "cell_type": "code",
   "execution_count": 18,
   "metadata": {},
   "outputs": [
    {
     "name": "stdout",
     "output_type": "stream",
     "text": [
      "              precision    recall  f1-score   support\n",
      "\n",
      "           0       0.22      0.98      0.35     35378\n",
      "           1       0.85      0.04      0.07    129988\n",
      "\n",
      "    accuracy                           0.24    165366\n",
      "   macro avg       0.53      0.51      0.21    165366\n",
      "weighted avg       0.72      0.24      0.13    165366\n",
      "\n"
     ]
    }
   ],
   "source": [
    "from sklearn.metrics import classification_report\n",
    "print(classification_report(test_data_y, test_pred_y_round))"
   ]
  },
  {
   "cell_type": "code",
   "execution_count": 19,
   "metadata": {},
   "outputs": [],
   "source": [
    "from sklearn.metrics import roc_curve, auc, precision_recall_fscore_support, accuracy_score\n",
    "import numpy as np"
   ]
  },
  {
   "cell_type": "code",
   "execution_count": 22,
   "metadata": {},
   "outputs": [
    {
     "name": "stdout",
     "output_type": "stream",
     "text": [
      "best threshold:  0.5074549\n"
     ]
    }
   ],
   "source": [
    "fpr, tpr, thresholds = roc_curve(test_data_y, test_pred_y)\n",
    "auc_ = auc(fpr, tpr)\n",
    "best_threshold = thresholds[np.argmax(-fpr + tpr)]\n",
    "print(\"best threshold: \", best_threshold)"
   ]
  },
  {
   "cell_type": "code",
   "execution_count": 21,
   "metadata": {},
   "outputs": [
    {
     "data": {
      "image/png": "[encoded data removed]",
      "text/plain": [
       "<Figure size 432x288 with 1 Axes>"
      ]
     },
     "metadata": {
      "needs_background": "light"
     },
     "output_type": "display_data"
    }
   ],
   "source": [
    "import matplotlib.pyplot as plt\n",
    "\n",
    "model_name = \"CNN Char\"\n",
    "model_full_name = \"CNN with Char Level Embedding\"\n",
    "\n",
    "plt.figure(1)\n",
    "plt.plot([0, 1], [0, 1], 'k--')\n",
    "plt.plot(fpr, tpr, label=f'{model_name} (area = {auc_:.3f})')\n",
    "plt.xlabel('False positive rate')\n",
    "plt.ylabel('True positive rate')\n",
    "plt.title(f'ROC curve for {model_full_name}')\n",
    "plt.legend(loc='best')\n",
    "plt.savefig(f'../plots/{model_name.replace(\" \", \"_\").lower()}_roc.pdf')\n",
    "plt.show()"
   ]
  },
  {
   "cell_type": "code",
   "execution_count": null,
   "metadata": {},
   "outputs": [],
   "source": []
  }
 ],
 "metadata": {
  "kernelspec": {
   "display_name": "Python 3",
   "language": "python",
   "name": "python3"
  },
  "language_info": {
   "codemirror_mode": {
    "name": "ipython",
    "version": 3
   },
   "file_extension": ".py",
   "mimetype": "text/x-python",
   "name": "python",
   "nbconvert_exporter": "python",
   "pygments_lexer": "ipython3",
   "version": "3.7.7"
  }
 },
 "nbformat": 4,
 "nbformat_minor": 4
}
