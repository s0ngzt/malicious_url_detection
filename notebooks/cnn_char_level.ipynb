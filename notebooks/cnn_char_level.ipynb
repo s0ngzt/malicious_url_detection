{
 "cells": [
  {
   "cell_type": "code",
   "execution_count": 1,
   "metadata": {},
   "outputs": [],
   "source": [
    "import sys\n",
    "sys.path.append(\"..\")"
   ]
  },
  {
   "cell_type": "code",
   "execution_count": 2,
   "metadata": {},
   "outputs": [
    {
     "name": "stdout",
     "output_type": "stream",
     "text": [
      "Initialized PhysicalDevice(name='/physical_device:GPU:0', device_type='GPU')\n"
     ]
    }
   ],
   "source": [
    "import pandas as pd\n",
    "import tensorflow as tf\n",
    "import tensorflow.keras as k\n",
    "import numpy as np\n",
    "from utils import data_util\n",
    "from utils import vectorization\n",
    "from sklearn.model_selection import train_test_split\n",
    "from sklearn.metrics import roc_curve, auc, precision_recall_fscore_support, accuracy_score\n",
    "from matplotlib import pyplot as plt\n",
    "\n",
    "pd.set_option('display.max_columns', None)  # show all columns\n",
    "GPUs = tf.config.list_physical_devices('GPU')\n",
    "if GPUs is None or len(GPUs) == 0:\n",
    "    print(\"WARNING: No GPU, all there is is:\")\n",
    "    for device in tf.config.list_physical_devices():\n",
    "        print(f'- {device}')\n",
    "else:\n",
    "    for gpu in GPUs:\n",
    "        tf.config.experimental.set_memory_growth(gpu, True)\n",
    "        print(\"Initialized\", gpu)"
   ]
  },
  {
   "cell_type": "code",
   "execution_count": 3,
   "metadata": {},
   "outputs": [],
   "source": [
    "data = pd.read_csv(\"../data/data_processed.csv\")\n",
    "#shuffle\n",
    "data = data.sample(frac=1, random_state=42).reset_index(drop=True)\n",
    "data_train, data_test = train_test_split(data, test_size=0.7, stratify=data['label'], shuffle=True, random_state=42)"
   ]
  },
  {
   "cell_type": "code",
   "execution_count": 4,
   "metadata": {
    "pycharm": {
     "name": "#%%\n"
    }
   },
   "outputs": [
    {
     "data": {
      "text/plain": [
       "(          url\n",
       " label        \n",
       " bad     75643\n",
       " good   344821,\n",
       "           url\n",
       " label        \n",
       " bad     22693\n",
       " good   103446,\n",
       "           url\n",
       " label        \n",
       " bad     52950\n",
       " good   241375)"
      ]
     },
     "execution_count": 4,
     "metadata": {},
     "output_type": "execute_result"
    }
   ],
   "source": [
    "data.groupby('label').aggregate('count'), data_train.groupby('label').aggregate('count'), data_test.groupby('label').aggregate('count')"
   ]
  },
  {
   "cell_type": "code",
   "execution_count": 5,
   "metadata": {
    "pycharm": {
     "name": "#%%\n"
    }
   },
   "outputs": [
    {
     "name": "stdout",
     "output_type": "stream",
     "text": [
      "Char vocabulary size: 122\n"
     ]
    }
   ],
   "source": [
    "char_vectorizer = vectorization.get_char_vectorizer(data_train['url'])\n",
    "LC = len(char_vectorizer.word_counts)\n",
    "print('Char vocabulary size:', LC)"
   ]
  },
  {
   "cell_type": "code",
   "execution_count": 6,
   "metadata": {
    "pycharm": {
     "name": "#%%\n"
    }
   },
   "outputs": [
    {
     "name": "stdout",
     "output_type": "stream",
     "text": [
      "Train: ({'char': TensorSpec(shape=(200,), dtype=tf.float64, name=None)}, TensorSpec(shape=(), dtype=tf.int32, name=None)) \n",
      "Test: ({'char': TensorSpec(shape=(200,), dtype=tf.float64, name=None)}, TensorSpec(shape=(), dtype=tf.int32, name=None))\n"
     ]
    }
   ],
   "source": [
    "dataset_train = data_util.create_dataset_generator(char_vectorizer, None, data_train)\\\n",
    "    .shuffle(10000)\\\n",
    "    .prefetch(10000) #.batch(15*1024)\n",
    "dataset_test = data_util.create_dataset_generator(char_vectorizer, None, data_test)\\\n",
    "    .shuffle(10000)\\\n",
    "    .prefetch(10000) #.batch(15*1024)\n",
    "\n",
    "print('Train:', dataset_train.element_spec, '\\nTest:', dataset_test.element_spec)"
   ]
  },
  {
   "cell_type": "code",
   "execution_count": 7,
   "metadata": {
    "pycharm": {
     "name": "#%%\n"
    }
   },
   "outputs": [
    {
     "name": "stdout",
     "output_type": "stream",
     "text": [
      "Model: \"model\"\n",
      "__________________________________________________________________________________________________\n",
      "Layer (type)                    Output Shape         Param #     Connected to                     \n",
      "==================================================================================================\n",
      "char (InputLayer)               [(None, 200)]        0                                            \n",
      "__________________________________________________________________________________________________\n",
      "embedding (Embedding)           (None, 200, 16)      1984        char[0][0]                       \n",
      "__________________________________________________________________________________________________\n",
      "char_conv_3 (Conv1D)            (None, 200, 32)      1568        embedding[0][0]                  \n",
      "__________________________________________________________________________________________________\n",
      "char_conv_5 (Conv1D)            (None, 200, 32)      2592        embedding[0][0]                  \n",
      "__________________________________________________________________________________________________\n",
      "max_pooling1d (MaxPooling1D)    (None, 100, 32)      0           char_conv_3[0][0]                \n",
      "__________________________________________________________________________________________________\n",
      "max_pooling1d_1 (MaxPooling1D)  (None, 100, 32)      0           char_conv_5[0][0]                \n",
      "__________________________________________________________________________________________________\n",
      "concatenate (Concatenate)       (None, 100, 64)      0           max_pooling1d[0][0]              \n",
      "                                                                 max_pooling1d_1[0][0]            \n",
      "__________________________________________________________________________________________________\n",
      "flatten (Flatten)               (None, 6400)         0           concatenate[0][0]                \n",
      "__________________________________________________________________________________________________\n",
      "char_dropout (Dropout)          (None, 6400)         0           flatten[0][0]                    \n",
      "__________________________________________________________________________________________________\n",
      "char_dense (Dense)              (None, 512)          3277312     char_dropout[0][0]               \n",
      "__________________________________________________________________________________________________\n",
      "dense_1 (Dense)                 (None, 128)          65664       char_dense[0][0]                 \n",
      "__________________________________________________________________________________________________\n",
      "dense_comb_out (Dense)          (None, 1)            129         dense_1[0][0]                    \n",
      "==================================================================================================\n",
      "Total params: 3,349,249\n",
      "Trainable params: 3,349,249\n",
      "Non-trainable params: 0\n",
      "__________________________________________________________________________________________________\n"
     ]
    },
    {
     "data": {
      "image/png": "[encoded data removed]",
      "text/plain": [
       "<IPython.core.display.Image object>"
      ]
     },
     "execution_count": 7,
     "metadata": {},
     "output_type": "execute_result"
    }
   ],
   "source": [
    "def create_conv_subnet(input_layer, conv_kernel_sizes, prefix=''):\n",
    "    convolutions = list()\n",
    "    for kernel_size in conv_kernel_sizes:\n",
    "        x = k.layers.Conv1D(\n",
    "            filters=32,\n",
    "            kernel_size=kernel_size,\n",
    "            padding='same',\n",
    "            activation='relu',\n",
    "            name=f'{prefix}_conv_{kernel_size}'\n",
    "        )(input_layer)\n",
    "        x = k.layers.MaxPool1D()(x)\n",
    "        convolutions.append(x)\n",
    "\n",
    "    x = k.layers.concatenate(convolutions, axis=2)\n",
    "    x = k.layers.Flatten()(x)\n",
    "    x = k.layers.Dropout(0.5, name=f'{prefix}_dropout')(x)\n",
    "    x = k.layers.Dense(512, name=f'{prefix}_dense', activation='relu')(x)\n",
    "    return x\n",
    "\n",
    "def create_url_net(input_length, emb_dim, conv_kernel_sizes):\n",
    "    char_input = k.layers.Input(shape=[input_length], name='char')\n",
    "\n",
    "    x = create_conv_subnet(\n",
    "        k.layers.Embedding(2+LC, emb_dim, mask_zero=True)(char_input),\n",
    "        conv_kernel_sizes,\n",
    "        'char'\n",
    "    )\n",
    "\n",
    "    x = k.layers.Dense(128, activation='relu', name='dense_1')(x)\n",
    "    x = k.layers.Dense(1, activation='sigmoid', name='dense_comb_out')(x)\n",
    "\n",
    "    model = k.models.Model(inputs=[char_input], outputs=[x])\n",
    "    return model\n",
    "\n",
    "cnn_char_model = create_url_net(\n",
    "    input_length=200,\n",
    "    emb_dim=16,\n",
    "    conv_kernel_sizes=[3,5]\n",
    ")\n",
    "cnn_char_model.compile(\n",
    "    optimizer=k.optimizers.Adam(learning_rate=1e-4),\n",
    "    loss='binary_crossentropy',\n",
    "    metrics=['binary_accuracy']#, k.metrics.Precision(), k.metrics.Recall()]\n",
    ")\n",
    "#     loss='binary_crossentropy',\n",
    "cnn_char_model.summary()\n",
    "k.utils.plot_model(cnn_char_model, show_shapes=True)"
   ]
  },
  {
   "cell_type": "code",
   "execution_count": 9,
   "metadata": {
    "pycharm": {
     "name": "#%%\n"
    }
   },
   "outputs": [
    {
     "name": "stdout",
     "output_type": "stream",
     "text": [
      "     62/Unknown - 49s 785ms/step - loss: 0.4836 - binary_accuracy: 0.8202INFO:tensorflow:Assets written to: ./cnn_char_checkpoints\\assets\n",
      "62/62 [==============================] - 162s 3s/step - loss: 0.4836 - binary_accuracy: 0.8202 - val_loss: 0.4574 - val_binary_accuracy: 0.8249\n"
     ]
    },
    {
     "data": {
      "text/plain": [
       "<tensorflow.python.keras.callbacks.History at 0x1170611a988>"
      ]
     },
     "execution_count": 9,
     "metadata": {},
     "output_type": "execute_result"
    }
   ],
   "source": [
    "bs=256*8\n",
    "\n",
    "cnn_char_model.fit(\n",
    "    dataset_train.batch(bs),\n",
    "    epochs=1,\n",
    "    validation_data=dataset_test.batch(bs),\n",
    "    callbacks=[\n",
    "        k.callbacks.EarlyStopping(monitor='val_loss', patience=3),\n",
    "        k.callbacks.ModelCheckpoint('./cnn_char_checkpoints', verbose=0)\n",
    "    ],\n",
    ")"
   ]
  },
  {
   "cell_type": "code",
   "execution_count": 10,
   "metadata": {
    "pycharm": {
     "name": "#%%\n"
    }
   },
   "outputs": [
    {
     "name": "stdout",
     "output_type": "stream",
     "text": [
      "INFO:tensorflow:Assets written to: cnn_char_level\\assets\n"
     ]
    }
   ],
   "source": [
    "cnn_char_model.save('cnn_char_level')"
   ]
  },
  {
   "cell_type": "code",
   "execution_count": null,
   "metadata": {},
   "outputs": [],
   "source": [
    "bs=256*8\n",
    "model = k.models.load_model('cnn_char_level')"
   ]
  },
  {
   "cell_type": "code",
   "execution_count": null,
   "metadata": {
    "scrolled": true
   },
   "outputs": [],
   "source": [
    "X_test, y_test = np.array([*dataset_test.as_numpy_iterator()]).T\n",
    "X_test = np.array([item['char'] for item in X_test])"
   ]
  },
  {
   "cell_type": "code",
   "execution_count": null,
   "metadata": {
    "pycharm": {
     "name": "#%%\n"
    }
   },
   "outputs": [],
   "source": [
    "X_validation = tf.data.Dataset.from_tensor_slices(((X_test, X_test),)).batch(bs)\n",
    "y_validation = y_test.astype('int32')\n",
    "\n",
    "y_hat = model.predict(X_validation).ravel()"
   ]
  },
  {
   "cell_type": "code",
   "execution_count": null,
   "metadata": {
    "pycharm": {
     "name": "#%%\n"
    }
   },
   "outputs": [],
   "source": [
    "fpr, tpr, thresholds = roc_curve(y_validation, y_hat)\n",
    "auc_ = auc(fpr, tpr)\n",
    "best_threshold = thresholds[np.argmax(-fpr + tpr)]"
   ]
  },
  {
   "cell_type": "code",
   "execution_count": null,
   "metadata": {
    "pycharm": {
     "name": "#%%\n"
    }
   },
   "outputs": [],
   "source": [
    "model_name = \"Fully Convolutional Char\"\n",
    "model_full_name = \"Fully Convolutional model with Word Level Embedding\"\n",
    "\n",
    "plt.figure(1)\n",
    "plt.plot([0, 1], [0, 1], 'k--')\n",
    "plt.plot(fpr, tpr, label=f'{model_name} (area = {auc_:.3f})')\n",
    "plt.xlabel('False positive rate')\n",
    "plt.ylabel('True positive rate')\n",
    "plt.title(f'ROC curve for {model_full_name}')\n",
    "plt.legend(loc='best')\n",
    "plt.savefig(f'../plots/{model_name.replace(\" \", \"_\").lower()}_roc.pdf')\n",
    "plt.show()"
   ]
  },
  {
   "cell_type": "code",
   "execution_count": null,
   "metadata": {
    "pycharm": {
     "name": "#%%\n"
    }
   },
   "outputs": [],
   "source": [
    "y_hat_01 = np.zeros_like(y_hat)\n",
    "y_hat_01[y_hat >= best_threshold] = 1\n",
    "\n",
    "np.unique(y_hat_01)"
   ]
  },
  {
   "cell_type": "code",
   "execution_count": null,
   "metadata": {
    "pycharm": {
     "name": "#%%\n"
    }
   },
   "outputs": [],
   "source": [
    "precision_recall_fscore_support(y_validation, y_hat_01, beta=1, average='binary'), \\\n",
    "    tpr[np.argmax(-fpr + tpr)], fpr[np.argmax(-fpr + tpr)], \\\n",
    "    accuracy_score(y_validation, y_hat_01)"
   ]
  },
  {
   "cell_type": "code",
   "execution_count": null,
   "metadata": {
    "pycharm": {
     "name": "#%%\n"
    }
   },
   "outputs": [],
   "source": [
    "plt.plot((-fpr + tpr) / 2, label='Sum')\n",
    "plt.plot(tpr, label='TPR')\n",
    "plt.plot(1-fpr, label='FPR')\n",
    "plt.legend()"
   ]
  },
  {
   "cell_type": "code",
   "execution_count": null,
   "metadata": {
    "pycharm": {
     "name": "#%%\n"
    }
   },
   "outputs": [],
   "source": [
    "np.save(\"fpr_tpr/fccl-fpr\", fpr)\n",
    "np.save(\"fpr_tpr/fccl-tpr\", tpr)"
   ]
  },
  {
   "cell_type": "code",
   "execution_count": null,
   "metadata": {},
   "outputs": [],
   "source": []
  }
 ],
 "metadata": {
  "kernelspec": {
   "display_name": "Python 3",
   "language": "python",
   "name": "python3"
  },
  "language_info": {
   "codemirror_mode": {
    "name": "ipython",
    "version": 3
   },
   "file_extension": ".py",
   "mimetype": "text/x-python",
   "name": "python",
   "nbconvert_exporter": "python",
   "pygments_lexer": "ipython3",
   "version": "3.7.7"
  }
 },
 "nbformat": 4,
 "nbformat_minor": 1
}
