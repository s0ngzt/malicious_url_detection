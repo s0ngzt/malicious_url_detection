{
 "cells": [
  {
   "cell_type": "code",
   "execution_count": 8,
   "metadata": {},
   "outputs": [],
   "source": [
    "import pickle\n",
    "import sys\n",
    "sys.path.append(\"..\")"
   ]
  },
  {
   "cell_type": "code",
   "execution_count": 9,
   "metadata": {},
   "outputs": [],
   "source": [
    "import pandas as pd\n",
    "data = pd.read_csv(\"../data/data_processed.csv\")\n",
    "test_data = pd.read_csv(\"../data/ISCXURL2016/all_concated.csv\")"
   ]
  },
  {
   "cell_type": "code",
   "execution_count": 11,
   "metadata": {},
   "outputs": [
    {
     "data": {
      "text/html": [
       "<div>\n",
       "<style scoped>\n",
       "    .dataframe tbody tr th:only-of-type {\n",
       "        vertical-align: middle;\n",
       "    }\n",
       "\n",
       "    .dataframe tbody tr th {\n",
       "        vertical-align: top;\n",
       "    }\n",
       "\n",
       "    .dataframe thead th {\n",
       "        text-align: right;\n",
       "    }\n",
       "</style>\n",
       "<table border=\"1\" class=\"dataframe\">\n",
       "  <thead>\n",
       "    <tr style=\"text-align: right;\">\n",
       "      <th></th>\n",
       "      <th>url</th>\n",
       "      <th>label</th>\n",
       "    </tr>\n",
       "  </thead>\n",
       "  <tbody>\n",
       "    <tr>\n",
       "      <th>count</th>\n",
       "      <td>420463</td>\n",
       "      <td>420464</td>\n",
       "    </tr>\n",
       "    <tr>\n",
       "      <th>unique</th>\n",
       "      <td>409943</td>\n",
       "      <td>2</td>\n",
       "    </tr>\n",
       "    <tr>\n",
       "      <th>top</th>\n",
       "      <td>103.234.36.75/rd927.ex</td>\n",
       "      <td>good</td>\n",
       "    </tr>\n",
       "    <tr>\n",
       "      <th>freq</th>\n",
       "      <td>27</td>\n",
       "      <td>344821</td>\n",
       "    </tr>\n",
       "  </tbody>\n",
       "</table>\n",
       "</div>"
      ],
      "text/plain": [
       "                           url   label\n",
       "count                   420463  420464\n",
       "unique                  409943       2\n",
       "top     103.234.36.75/rd927.ex    good\n",
       "freq                        27  344821"
      ]
     },
     "execution_count": 11,
     "metadata": {},
     "output_type": "execute_result"
    }
   ],
   "source": [
    "data.describe()"
   ]
  },
  {
   "cell_type": "code",
   "execution_count": 13,
   "metadata": {},
   "outputs": [],
   "source": [
    "#word level\n",
    "from utils import vectorization\n",
    "word_vectorizer = vectorization.get_word_vectorizer_v2(data['url'].values.astype('U'))"
   ]
  },
  {
   "cell_type": "code",
   "execution_count": 14,
   "metadata": {},
   "outputs": [],
   "source": [
    "from utils.data_util import postpad_to\n",
    "word_tokenizer = word_vectorizer.build_tokenizer()\n",
    "test_data_x = postpad_to(test_data['url'].map(lambda url: [word_vectorizer.vocabulary_.get(a, -1)+2 for a in word_tokenizer(url)]), 200)"
   ]
  },
  {
   "cell_type": "code",
   "execution_count": 15,
   "metadata": {},
   "outputs": [],
   "source": [
    "test_data_y = [1 if label == \"bad\" else 0 for label in test_data[\"label\"]]"
   ]
  },
  {
   "cell_type": "code",
   "execution_count": 16,
   "metadata": {},
   "outputs": [],
   "source": [
    "import tensorflow.keras as k\n",
    "\n",
    "def create_conv_subnet(input_layer, conv_kernel_sizes, prefix=''):\n",
    "    convolutions = list()\n",
    "    for kernel_size in conv_kernel_sizes:\n",
    "        x = k.layers.Conv1D(\n",
    "            filters=32,\n",
    "            kernel_size=kernel_size,\n",
    "            padding='same',\n",
    "            activation='relu',\n",
    "            name=f'{prefix}_conv_{kernel_size}'\n",
    "        )(input_layer)\n",
    "        x = k.layers.MaxPool1D()(x)\n",
    "        convolutions.append(x)\n",
    "\n",
    "    x = k.layers.concatenate(convolutions, axis=2)\n",
    "    x = k.layers.Flatten()(x)\n",
    "    x = k.layers.Dropout(0.5, name=f'{prefix}_dropout')(x)\n",
    "    x = k.layers.Dense(512, name=f'{prefix}_dense', activation='relu')(x)\n",
    "    return x\n",
    "\n",
    "def create_url_net(input_length, emb_dim, conv_kernel_sizes):\n",
    "    word_input = k.layers.Input(shape=[input_length], name='word')\n",
    "\n",
    "    x = create_conv_subnet(\n",
    "        k.layers.Embedding(2+LW, emb_dim, mask_zero=True)(word_input),\n",
    "        conv_kernel_sizes,\n",
    "        'word'\n",
    "    )\n",
    "\n",
    "    x = k.layers.Dense(128, activation='relu', name='dense_1')(x)\n",
    "    x = k.layers.Dense(1, activation='sigmoid', name='dense_comb_out')(x)\n",
    "\n",
    "    model = k.models.Model(inputs=[word_input], outputs=[x])\n",
    "    return model\n",
    "\n",
    "LW = len(word_vectorizer.vocabulary_)\n",
    "cnn_word_model = create_url_net(\n",
    "    input_length=200,\n",
    "    emb_dim=16,\n",
    "    conv_kernel_sizes=[3,5]\n",
    ")"
   ]
  },
  {
   "cell_type": "code",
   "execution_count": 17,
   "metadata": {},
   "outputs": [],
   "source": [
    "cnn_word_model = k.models.load_model('./cnn_word_level')"
   ]
  },
  {
   "cell_type": "code",
   "execution_count": 18,
   "metadata": {},
   "outputs": [],
   "source": [
    "test_pred_y = cnn_word_model.predict(test_data_x)"
   ]
  },
  {
   "cell_type": "code",
   "execution_count": 19,
   "metadata": {},
   "outputs": [
    {
     "data": {
      "text/plain": [
       "array([[0.0581749 ],\n",
       "       [0.06142358],\n",
       "       [0.08769293],\n",
       "       ...,\n",
       "       [0.18632708],\n",
       "       [0.37794793],\n",
       "       [0.86762923]], dtype=float32)"
      ]
     },
     "execution_count": 19,
     "metadata": {},
     "output_type": "execute_result"
    }
   ],
   "source": [
    "test_pred_y"
   ]
  },
  {
   "cell_type": "code",
   "execution_count": 20,
   "metadata": {},
   "outputs": [
    {
     "data": {
      "text/plain": [
       "numpy.ndarray"
      ]
     },
     "execution_count": 20,
     "metadata": {},
     "output_type": "execute_result"
    }
   ],
   "source": [
    "type(test_pred_y)"
   ]
  },
  {
   "cell_type": "code",
   "execution_count": 21,
   "metadata": {},
   "outputs": [],
   "source": [
    "test_pred_y_round = [1 if i > 0.5 else 0 for i in test_pred_y]"
   ]
  },
  {
   "cell_type": "code",
   "execution_count": 22,
   "metadata": {},
   "outputs": [
    {
     "name": "stdout",
     "output_type": "stream",
     "text": [
      "              precision    recall  f1-score   support\n",
      "\n",
      "           0       0.23      0.63      0.33     35378\n",
      "           1       0.80      0.42      0.55    129988\n",
      "\n",
      "    accuracy                           0.46    165366\n",
      "   macro avg       0.52      0.52      0.44    165366\n",
      "weighted avg       0.68      0.46      0.50    165366\n",
      "\n"
     ]
    }
   ],
   "source": [
    "from sklearn.metrics import classification_report\n",
    "print(classification_report(test_data_y, test_pred_y_round))"
   ]
  },
  {
   "cell_type": "code",
   "execution_count": 23,
   "metadata": {},
   "outputs": [],
   "source": [
    "from sklearn.metrics import roc_curve, auc, precision_recall_fscore_support, accuracy_score\n",
    "import numpy as np"
   ]
  },
  {
   "cell_type": "code",
   "execution_count": null,
   "metadata": {},
   "outputs": [],
   "source": [
    "fpr, tpr, thresholds = roc_curve(test_data_y, test_pred_y)\n",
    "auc_ = auc(fpr, tpr)\n",
    "best_threshold = thresholds[np.argmax(-fpr + tpr)]\n",
    "print(\"best threshold: \", best_threshold)"
   ]
  },
  {
   "cell_type": "code",
   "execution_count": null,
   "metadata": {},
   "outputs": [],
   "source": [
    "import matplotlib.pyplot as plt\n",
    "\n",
    "model_name = \"CNN Word\"\n",
    "model_full_name = \"CNN with Word Level Embedding\"\n",
    "\n",
    "plt.figure(1)\n",
    "plt.plot([0, 1], [0, 1], 'k--')\n",
    "plt.plot(fpr, tpr, label=f'{model_name} (area = {auc_:.3f})')\n",
    "plt.xlabel('False positive rate')\n",
    "plt.ylabel('True positive rate')\n",
    "plt.title(f'ROC curve for {model_full_name}')\n",
    "plt.legend(loc='best')\n",
    "plt.savefig(f'../plots/{model_name.replace(\" \", \"_\").lower()}_roc.pdf')\n",
    "plt.show()"
   ]
  },
  {
   "cell_type": "code",
   "execution_count": null,
   "metadata": {},
   "outputs": [],
   "source": [
    "test_pred_y_round = [1 if i > 0.27 else 0 for i in test_pred_y]\n",
    "print(classification_report(test_data_y, test_pred_y_round))"
   ]
  },
  {
   "cell_type": "code",
   "execution_count": null,
   "metadata": {},
   "outputs": [],
   "source": []
  }
 ],
 "metadata": {
  "kernelspec": {
   "display_name": "Python 3",
   "language": "python",
   "name": "python3"
  },
  "language_info": {
   "codemirror_mode": {
    "name": "ipython",
    "version": 3
   },
   "file_extension": ".py",
   "mimetype": "text/x-python",
   "name": "python",
   "nbconvert_exporter": "python",
   "pygments_lexer": "ipython3",
   "version": "3.7.7"
  }
 },
 "nbformat": 4,
 "nbformat_minor": 4
}
