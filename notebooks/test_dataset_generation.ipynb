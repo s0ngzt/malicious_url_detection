{
 "cells": [
  {
   "cell_type": "code",
   "execution_count": 1,
   "metadata": {},
   "outputs": [],
   "source": [
    "import sys\n",
    "sys.path.append(\"..\")"
   ]
  },
  {
   "cell_type": "code",
   "execution_count": 2,
   "metadata": {},
   "outputs": [],
   "source": [
    "url2016_dir = \"../data/ISCXURL2016/\""
   ]
  },
  {
   "cell_type": "code",
   "execution_count": 3,
   "metadata": {},
   "outputs": [],
   "source": [
    "benign_dataset = url2016_dir + \"Benign_list_big_final.csv\"\n",
    "deface_dataset = url2016_dir + \"DefacementSitesURLFiltered.csv\"\n",
    "malwar_dataset = url2016_dir + \"Malware_dataset.csv\"\n",
    "phishi_dataset = url2016_dir + \"phishing_dataset.csv\"\n",
    "spam_dataset = url2016_dir + \"spam_dataset.csv\""
   ]
  },
  {
   "cell_type": "code",
   "execution_count": 4,
   "metadata": {},
   "outputs": [],
   "source": [
    "import pandas as pd\n",
    "df1 = pd.read_csv(benign_dataset, names = [\"url\"])\n",
    "df1[\"label\"] = \"good\""
   ]
  },
  {
   "cell_type": "code",
   "execution_count": 5,
   "metadata": {},
   "outputs": [
    {
     "data": {
      "text/html": [
       "<div>\n",
       "<style scoped>\n",
       "    .dataframe tbody tr th:only-of-type {\n",
       "        vertical-align: middle;\n",
       "    }\n",
       "\n",
       "    .dataframe tbody tr th {\n",
       "        vertical-align: top;\n",
       "    }\n",
       "\n",
       "    .dataframe thead th {\n",
       "        text-align: right;\n",
       "    }\n",
       "</style>\n",
       "<table border=\"1\" class=\"dataframe\">\n",
       "  <thead>\n",
       "    <tr style=\"text-align: right;\">\n",
       "      <th></th>\n",
       "      <th>url</th>\n",
       "      <th>label</th>\n",
       "    </tr>\n",
       "  </thead>\n",
       "  <tbody>\n",
       "    <tr>\n",
       "      <th>0</th>\n",
       "      <td>http://1337x.to/torrent/1048648/American-Snipe...</td>\n",
       "      <td>good</td>\n",
       "    </tr>\n",
       "    <tr>\n",
       "      <th>1</th>\n",
       "      <td>http://1337x.to/torrent/1110018/Blackhat-2015-...</td>\n",
       "      <td>good</td>\n",
       "    </tr>\n",
       "    <tr>\n",
       "      <th>2</th>\n",
       "      <td>http://1337x.to/torrent/1122940/Blackhat-2015-...</td>\n",
       "      <td>good</td>\n",
       "    </tr>\n",
       "    <tr>\n",
       "      <th>3</th>\n",
       "      <td>http://1337x.to/torrent/1124395/Fast-and-Furio...</td>\n",
       "      <td>good</td>\n",
       "    </tr>\n",
       "    <tr>\n",
       "      <th>4</th>\n",
       "      <td>http://1337x.to/torrent/1145504/Avengers-Age-o...</td>\n",
       "      <td>good</td>\n",
       "    </tr>\n",
       "    <tr>\n",
       "      <th>...</th>\n",
       "      <td>...</td>\n",
       "      <td>...</td>\n",
       "    </tr>\n",
       "    <tr>\n",
       "      <th>35373</th>\n",
       "      <td>https://lastpass.com/signup2.php?ac=1&amp;from_uri...</td>\n",
       "      <td>good</td>\n",
       "    </tr>\n",
       "    <tr>\n",
       "      <th>35374</th>\n",
       "      <td>https://lastpass.com/signup2.php?ac=1&amp;from_uri...</td>\n",
       "      <td>good</td>\n",
       "    </tr>\n",
       "    <tr>\n",
       "      <th>35375</th>\n",
       "      <td>https://lastpass.com/signup2.php?ac=1&amp;from_uri...</td>\n",
       "      <td>good</td>\n",
       "    </tr>\n",
       "    <tr>\n",
       "      <th>35376</th>\n",
       "      <td>https://lastpass.com/signup2.php?ac=1&amp;from_uri...</td>\n",
       "      <td>good</td>\n",
       "    </tr>\n",
       "    <tr>\n",
       "      <th>35377</th>\n",
       "      <td>https://asana.com/guide/videos/%22//fast.wisti...</td>\n",
       "      <td>good</td>\n",
       "    </tr>\n",
       "  </tbody>\n",
       "</table>\n",
       "<p>35378 rows × 2 columns</p>\n",
       "</div>"
      ],
      "text/plain": [
       "                                                     url label\n",
       "0      http://1337x.to/torrent/1048648/American-Snipe...  good\n",
       "1      http://1337x.to/torrent/1110018/Blackhat-2015-...  good\n",
       "2      http://1337x.to/torrent/1122940/Blackhat-2015-...  good\n",
       "3      http://1337x.to/torrent/1124395/Fast-and-Furio...  good\n",
       "4      http://1337x.to/torrent/1145504/Avengers-Age-o...  good\n",
       "...                                                  ...   ...\n",
       "35373  https://lastpass.com/signup2.php?ac=1&from_uri...  good\n",
       "35374  https://lastpass.com/signup2.php?ac=1&from_uri...  good\n",
       "35375  https://lastpass.com/signup2.php?ac=1&from_uri...  good\n",
       "35376  https://lastpass.com/signup2.php?ac=1&from_uri...  good\n",
       "35377  https://asana.com/guide/videos/%22//fast.wisti...  good\n",
       "\n",
       "[35378 rows x 2 columns]"
      ]
     },
     "execution_count": 5,
     "metadata": {},
     "output_type": "execute_result"
    }
   ],
   "source": [
    "df1"
   ]
  },
  {
   "cell_type": "code",
   "execution_count": 6,
   "metadata": {},
   "outputs": [],
   "source": [
    "df2 = pd.read_csv(deface_dataset, names = [\"url\"])\n",
    "df2[\"label\"] = \"bad\"\n",
    "df3 = pd.read_csv(malwar_dataset, names = [\"url\"])\n",
    "df3[\"label\"] = \"bad\"\n",
    "df4 = pd.read_csv(phishi_dataset, names = [\"url\"])\n",
    "df4[\"label\"] = \"bad\"\n",
    "df5 = pd.read_csv(spam_dataset, names = [\"url\"])\n",
    "df5[\"label\"] = \"bad\""
   ]
  },
  {
   "cell_type": "code",
   "execution_count": 7,
   "metadata": {},
   "outputs": [
    {
     "data": {
      "text/plain": [
       "(                                                     url label\n",
       " 0            http://www.sinduscongoias.com.br/index.html   bad\n",
       " 1      http://www.sinduscongoias.com.br/index.php/ins...   bad\n",
       " 2      http://www.sinduscongoias.com.br/index.php/ins...   bad\n",
       " 3      http://www.sinduscongoias.com.br/index.php/ins...   bad\n",
       " 4      http://www.sinduscongoias.com.br/index.php/ins...   bad\n",
       " ...                                                  ...   ...\n",
       " 96452  http://www.laurenzano.com.ar/index.php?option=...   bad\n",
       " 96453  http://www.laurenzano.com.ar/templates/laurenz...   bad\n",
       " 96454  http://www.laurenzano.com.ar/templates/laurenz...   bad\n",
       " 96455                 http://www.laurenzano.com.ar/x.txt   bad\n",
       " 96456          http://www.emotionalassets.com/sejeal.jpg   bad\n",
       " \n",
       " [96457 rows x 2 columns],\n",
       "                                                      url label\n",
       " 0      http://gzzax.livechatvalue.com/chat/chatClient...   bad\n",
       " 1      http://gzzax.livechatvalue.com/chat/chatClient...   bad\n",
       " 2      http://gzzax.livechatvalue.com/chat/chatClient...   bad\n",
       " 3      http://gzzax.livechatvalue.com/chat/chatClient...   bad\n",
       " 4      http://mtsx.com.cn/UploadFiles/2011-08/admin/%...   bad\n",
       " ...                                                  ...   ...\n",
       " 11561  http://www.plastischechirurgie.net/gesicht/fac...   bad\n",
       " 11562  http://www.plastischechirurgie.net/haartranspl...   bad\n",
       " 11563  http://www.plastischechirurgie.net/korper/gyna...   bad\n",
       " 11564  http://dl.get1993desk.com/n/50517366/RealPlaye...   bad\n",
       " 11565  http://fb.com.accounts.login.userid.492739.fbs...   bad\n",
       " \n",
       " [11566 rows x 2 columns],\n",
       "                                                     url label\n",
       " 0     http://v2.email-marketing.adminsimple.com/trac...   bad\n",
       " 1     http://bid.openx.net/json?amp;amp;amp;amp;cid;...   bad\n",
       " 2     http://webmail2.centurytel.net/hwebmail/servic...   bad\n",
       " 3     http://www.google.com.ng/imgres?imgurl=http://...   bad\n",
       " 4     http://webmail2.centurytel.net/hwebmail/servic...   bad\n",
       " ...                                                 ...   ...\n",
       " 9960              http://highedgesolar.com/nw/includes/   bad\n",
       " 9961              http://jimfangimporters.yolasite.com/   bad\n",
       " 9962              http://liuheng.chengxuren.com/Images/   bad\n",
       " 9963              http://mcnaotempreco.net/site/portal/   bad\n",
       " 9964              http://missionaryfilms.org/index.html   bad\n",
       " \n",
       " [9965 rows x 2 columns],\n",
       "                                                      url label\n",
       " 0      http://astore.amazon.co.uk/allezvinsfrenchr/de...   bad\n",
       " 1      http://archive.salisburyjournal.co.uk/2007/3/6...   bad\n",
       " 2         http://appbasic.jettons.co.uk/links/index.html   bad\n",
       " 3      http://archive.yorkpress.co.uk/2003/11/6/25684...   bad\n",
       " 4      http://acard4u.co.uk/product_reviews.php?cPath...   bad\n",
       " ...                                                  ...   ...\n",
       " 11995    http://archive.salisburyjournal.co.uk/2001/3/7/   bad\n",
       " 11996  http://astore.amazon.co.uk/allezvinsfrenchr/de...   bad\n",
       " 11997  http://archive.thisischeshire.co.uk/2000/1/14/...   bad\n",
       " 11998  http://applerugs.co.uk/rugs/product_info.php?p...   bad\n",
       " 11999  http://allgirltogaparty.co.uk/gallery2/main.ph...   bad\n",
       " \n",
       " [12000 rows x 2 columns])"
      ]
     },
     "execution_count": 7,
     "metadata": {},
     "output_type": "execute_result"
    }
   ],
   "source": [
    "df2, df3, df4, df5"
   ]
  },
  {
   "cell_type": "code",
   "execution_count": 8,
   "metadata": {},
   "outputs": [],
   "source": [
    "df = pd.concat([df1, df2, df3, df4, df5])"
   ]
  },
  {
   "cell_type": "code",
   "execution_count": 9,
   "metadata": {},
   "outputs": [
    {
     "data": {
      "text/html": [
       "<div>\n",
       "<style scoped>\n",
       "    .dataframe tbody tr th:only-of-type {\n",
       "        vertical-align: middle;\n",
       "    }\n",
       "\n",
       "    .dataframe tbody tr th {\n",
       "        vertical-align: top;\n",
       "    }\n",
       "\n",
       "    .dataframe thead th {\n",
       "        text-align: right;\n",
       "    }\n",
       "</style>\n",
       "<table border=\"1\" class=\"dataframe\">\n",
       "  <thead>\n",
       "    <tr style=\"text-align: right;\">\n",
       "      <th></th>\n",
       "      <th>url</th>\n",
       "      <th>label</th>\n",
       "    </tr>\n",
       "  </thead>\n",
       "  <tbody>\n",
       "    <tr>\n",
       "      <th>0</th>\n",
       "      <td>http://1337x.to/torrent/1048648/American-Snipe...</td>\n",
       "      <td>good</td>\n",
       "    </tr>\n",
       "    <tr>\n",
       "      <th>1</th>\n",
       "      <td>http://1337x.to/torrent/1110018/Blackhat-2015-...</td>\n",
       "      <td>good</td>\n",
       "    </tr>\n",
       "    <tr>\n",
       "      <th>2</th>\n",
       "      <td>http://1337x.to/torrent/1122940/Blackhat-2015-...</td>\n",
       "      <td>good</td>\n",
       "    </tr>\n",
       "    <tr>\n",
       "      <th>3</th>\n",
       "      <td>http://1337x.to/torrent/1124395/Fast-and-Furio...</td>\n",
       "      <td>good</td>\n",
       "    </tr>\n",
       "    <tr>\n",
       "      <th>4</th>\n",
       "      <td>http://1337x.to/torrent/1145504/Avengers-Age-o...</td>\n",
       "      <td>good</td>\n",
       "    </tr>\n",
       "    <tr>\n",
       "      <th>...</th>\n",
       "      <td>...</td>\n",
       "      <td>...</td>\n",
       "    </tr>\n",
       "    <tr>\n",
       "      <th>11995</th>\n",
       "      <td>http://archive.salisburyjournal.co.uk/2001/3/7/</td>\n",
       "      <td>bad</td>\n",
       "    </tr>\n",
       "    <tr>\n",
       "      <th>11996</th>\n",
       "      <td>http://astore.amazon.co.uk/allezvinsfrenchr/de...</td>\n",
       "      <td>bad</td>\n",
       "    </tr>\n",
       "    <tr>\n",
       "      <th>11997</th>\n",
       "      <td>http://archive.thisischeshire.co.uk/2000/1/14/...</td>\n",
       "      <td>bad</td>\n",
       "    </tr>\n",
       "    <tr>\n",
       "      <th>11998</th>\n",
       "      <td>http://applerugs.co.uk/rugs/product_info.php?p...</td>\n",
       "      <td>bad</td>\n",
       "    </tr>\n",
       "    <tr>\n",
       "      <th>11999</th>\n",
       "      <td>http://allgirltogaparty.co.uk/gallery2/main.ph...</td>\n",
       "      <td>bad</td>\n",
       "    </tr>\n",
       "  </tbody>\n",
       "</table>\n",
       "<p>165366 rows × 2 columns</p>\n",
       "</div>"
      ],
      "text/plain": [
       "                                                     url label\n",
       "0      http://1337x.to/torrent/1048648/American-Snipe...  good\n",
       "1      http://1337x.to/torrent/1110018/Blackhat-2015-...  good\n",
       "2      http://1337x.to/torrent/1122940/Blackhat-2015-...  good\n",
       "3      http://1337x.to/torrent/1124395/Fast-and-Furio...  good\n",
       "4      http://1337x.to/torrent/1145504/Avengers-Age-o...  good\n",
       "...                                                  ...   ...\n",
       "11995    http://archive.salisburyjournal.co.uk/2001/3/7/   bad\n",
       "11996  http://astore.amazon.co.uk/allezvinsfrenchr/de...   bad\n",
       "11997  http://archive.thisischeshire.co.uk/2000/1/14/...   bad\n",
       "11998  http://applerugs.co.uk/rugs/product_info.php?p...   bad\n",
       "11999  http://allgirltogaparty.co.uk/gallery2/main.ph...   bad\n",
       "\n",
       "[165366 rows x 2 columns]"
      ]
     },
     "execution_count": 9,
     "metadata": {},
     "output_type": "execute_result"
    }
   ],
   "source": [
    "df"
   ]
  },
  {
   "cell_type": "code",
   "execution_count": 10,
   "metadata": {},
   "outputs": [
    {
     "data": {
      "text/plain": [
       "bad     129988\n",
       "good     35378\n",
       "Name: label, dtype: int64"
      ]
     },
     "execution_count": 10,
     "metadata": {},
     "output_type": "execute_result"
    }
   ],
   "source": [
    "df.loc[:,'label'].value_counts()"
   ]
  },
  {
   "cell_type": "code",
   "execution_count": 11,
   "metadata": {},
   "outputs": [],
   "source": [
    "#去空格\n",
    "num_url = df.shape[0]\n",
    "for i in range(num_url):\n",
    "    stri = df.iloc[i, 0]\n",
    "    stri_nowhitespace = ''.join(stri.split())\n",
    "    if not stri == stri_nowhitespace:\n",
    "        df.iloc[i, 0] = stri_nowhitespace"
   ]
  },
  {
   "cell_type": "code",
   "execution_count": 12,
   "metadata": {},
   "outputs": [],
   "source": [
    "#去协议头\n",
    "for i in range(df.shape[0]):\n",
    "    stri = df.iloc[i, 0] #replace(' ', '')\n",
    "    if stri.startswith(\"http://\"):\n",
    "        #line=line[7:]\n",
    "        df.iloc[i, 0] = stri[7:]\n",
    "    if stri.startswith(\"https://\"):\n",
    "        #line=line[8:]\n",
    "        df.iloc[i, 0] = stri[8:]\n",
    "    if stri.startswith(\"ftp://\"):\n",
    "        #line=line[6:]\n",
    "        df.iloc[i, 0] = stri[6:]\n",
    "    if stri.startswith(\"www.\"):\n",
    "        #line = line[4:]\n",
    "        df.iloc[i, 0] = stri[4:]"
   ]
  },
  {
   "cell_type": "code",
   "execution_count": 13,
   "metadata": {},
   "outputs": [],
   "source": [
    "#去末尾/\n",
    "num_url = df.shape[0]\n",
    "for i in range(num_url):\n",
    "    stri = df.iloc[i, 0]\n",
    "    if not stri.endswith('/'):\n",
    "        df.iloc[i, 0] = stri[:-1]"
   ]
  },
  {
   "cell_type": "code",
   "execution_count": 14,
   "metadata": {},
   "outputs": [],
   "source": [
    "df.to_csv(\"../data/ISCXURL2016/all_concated.csv\", index=False)"
   ]
  },
  {
   "cell_type": "code",
   "execution_count": null,
   "metadata": {},
   "outputs": [],
   "source": []
  }
 ],
 "metadata": {
  "kernelspec": {
   "display_name": "Python 3",
   "language": "python",
   "name": "python3"
  },
  "language_info": {
   "codemirror_mode": {
    "name": "ipython",
    "version": 3
   },
   "file_extension": ".py",
   "mimetype": "text/x-python",
   "name": "python",
   "nbconvert_exporter": "python",
   "pygments_lexer": "ipython3",
   "version": "3.7.7"
  }
 },
 "nbformat": 4,
 "nbformat_minor": 4
}
